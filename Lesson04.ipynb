{
 "cells": [
  {
   "cell_type": "markdown",
   "metadata": {},
   "source": [
    "# Assignment 4"
   ]
  },
  {
   "cell_type": "markdown",
   "metadata": {},
   "source": [
    "### 1. 复习上课内容以及复现课程代码"
   ]
  },
  {
   "cell_type": "markdown",
   "metadata": {},
   "source": [
    "在本部分，你需要复习上课内容和课程代码后，自己复现课程代码。"
   ]
  },
  {
   "cell_type": "markdown",
   "metadata": {},
   "source": [
    "### 2. 回答一下理论题目"
   ]
  },
  {
   "cell_type": "markdown",
   "metadata": {},
   "source": [
    "#### 1. What does a neuron compute?"
   ]
  },
  {
   "cell_type": "markdown",
   "metadata": {},
   "source": [
    "神经网络是模仿人类的大脑机制而发展出来的，先将数据进行线性拟合（kx+b），再计算激活函数（sigmoid等函数）转化为非线性拟合模型，以使预测输出更接近真实值，在计算分类问题时效果更好。"
   ]
  },
  {
   "cell_type": "markdown",
   "metadata": {},
   "source": [
    "####  2. Why we use non-linear activation funcitons in neural networks?"
   ]
  },
  {
   "cell_type": "markdown",
   "metadata": {},
   "source": [
    "如果使用线性函数作为激活函数，那么无论添加多少隐藏层，最后输出都能拟合成一个线性函数，那么就没有添加隐藏层的意义了。"
   ]
  },
  {
   "cell_type": "markdown",
   "metadata": {},
   "source": [
    "#### 3. What is the 'Logistic Loss' ?"
   ]
  },
  {
   "cell_type": "markdown",
   "metadata": {},
   "source": [
    "'Logistic Loss'和'Crossing Entropy Lossing'本质上是一样的，是'Crossing Entropy Lossing'在二分类问题(y1+y2=1)上的演化"
   ]
  },
  {
   "cell_type": "markdown",
   "metadata": {},
   "source": [
    "#### 4. Assume that you are building a binary classifier for detecting if an image containing cats, which activation functions would you recommen using for the output layer ?\n",
    "\n",
    "A. ReLU    \n",
    "B. Leaky ReLU    \n",
    "C. sigmoid    \n",
    "D. tanh  "
   ]
  },
  {
   "cell_type": "markdown",
   "metadata": {},
   "source": [
    "c"
   ]
  },
  {
   "cell_type": "markdown",
   "metadata": {},
   "source": [
    "#### 5. Why we don't use zero initialization for all parameters ?"
   ]
  },
  {
   "cell_type": "markdown",
   "metadata": {},
   "source": [
    "当我们将w初始化为0时，所得到的预测值y^都是相同的，在进行反向传播梯度计算时，会导致权重w对称相等，部分参数得不到更新"
   ]
  },
  {
   "cell_type": "markdown",
   "metadata": {},
   "source": [
    "#### 6. Can you implement the softmax function using python ? "
   ]
  },
  {
   "cell_type": "markdown",
   "metadata": {},
   "source": [
    "现在有些困难，还需继续学习"
   ]
  },
  {
   "cell_type": "markdown",
   "metadata": {},
   "source": [
    "### 3.实践题"
   ]
  },
  {
   "cell_type": "markdown",
   "metadata": {},
   "source": [
    "#### In this practical part, you will build a simple digits recognizer to check if the digit in the image is larger than 5. This assignmnet will guide you step by step to finish your first small project in this course ."
   ]
  },
  {
   "cell_type": "markdown",
   "metadata": {},
   "source": [
    "#### 1 - Packages  \n",
    "sklearn is a famous package for machine learning.   \n",
    "matplotlib is a common package for vasualization."
   ]
  },
  {
   "cell_type": "code",
   "execution_count": 151,
   "metadata": {},
   "outputs": [],
   "source": [
    "from sklearn import datasets\n",
    "import matplotlib.pyplot as plt\n",
    "from sklearn.model_selection import train_test_split\n",
    "import numpy as np"
   ]
  },
  {
   "cell_type": "markdown",
   "metadata": {},
   "source": [
    "#### 2 - Overvie of the dataset  \n",
    "    - a training set has m_train images labeled as 0 if the digit < 5 or 1 if the digit >= 5\n",
    "    - a test set contains m_test images labels as if the digit < 5 or 1 if the digit >= 5\n",
    "    - eah image if of shape (num_px, num_px ). Thus, each image is square(height=num_px and  width = num_px)"
   ]
  },
  {
   "cell_type": "code",
   "execution_count": 152,
   "metadata": {},
   "outputs": [
    {
     "name": "stdout",
     "output_type": "stream",
     "text": [
      "1797 64\n"
     ]
    }
   ],
   "source": [
    "# Loading the data \n",
    "digits = datasets.load_digits()\n",
    "\n",
    "print(digits.data.shape[0],digits.data.shape[1]) #图片数量，每张图片的维数"
   ]
  },
  {
   "cell_type": "code",
   "execution_count": 153,
   "metadata": {},
   "outputs": [
    {
     "data": {
      "image/png": "[encoded data removed]",
      "text/plain": [
       "<Figure size 432x288 with 10 Axes>"
      ]
     },
     "metadata": {},
     "output_type": "display_data"
    }
   ],
   "source": [
    "# Vilizating the data\n",
    "for i in range(1,11):\n",
    "    plt.subplot(2,5,i)\n",
    "    plt.imshow(digits.data[i-1].reshape([8,8]),cmap=plt.cm.gray_r)\n",
    "    plt.text(3,10,str(digits.target[i-1]))\n",
    "    plt.xticks([])\n",
    "    plt.yticks([])\n",
    "plt.show()"
   ]
  },
  {
   "cell_type": "code",
   "execution_count": 154,
   "metadata": {},
   "outputs": [],
   "source": [
    "# Split the data into training set and test set \n",
    "X_train, X_test, y_train, y_test = train_test_split(digits.data, digits.target, test_size=0.25)"
   ]
  },
  {
   "cell_type": "code",
   "execution_count": 155,
   "metadata": {},
   "outputs": [],
   "source": [
    "# reformulate the label. \n",
    "# If the digit is smaller than 5, the label is 0.\n",
    "# If the digit is larger than 5, the label is 1.\n",
    "\n",
    "y_train[y_train < 5 ] = 0\n",
    "y_train[y_train >= 5] = 1\n",
    "y_test[y_test < 5] = 0\n",
    "y_test[y_test >= 5] = 1"
   ]
  },
  {
   "cell_type": "code",
   "execution_count": 156,
   "metadata": {},
   "outputs": [
    {
     "name": "stdout",
     "output_type": "stream",
     "text": [
      "(64, 1347)\n",
      "(64, 450)\n",
      "(1, 1347)\n",
      "(1, 450)\n"
     ]
    }
   ],
   "source": [
    "X_train = X_train.T\n",
    "X_test = X_test.T\n",
    "y_train = y_train.reshape(1,1347)\n",
    "y_test = y_test.reshape(1,450)\n",
    "print(X_train.shape)\n",
    "print(X_test.shape)\n",
    "print(y_train.shape)\n",
    "print(y_test.shape)"
   ]
  },
  {
   "cell_type": "markdown",
   "metadata": {},
   "source": [
    "#### 3- Architecture of the neural network"
   ]
  },
  {
   "cell_type": "markdown",
   "metadata": {},
   "source": [
    "![title](./networks.png)"
   ]
  },
  {
   "cell_type": "code",
   "execution_count": 4,
   "metadata": {},
   "outputs": [
    {
     "name": "stdout",
     "output_type": "stream",
     "text": [
      "/Users/limingxiao/Desktop/NLP_Lectures/jupyters_and_slides/2019-spring\r\n"
     ]
    }
   ],
   "source": [
    "!pwd"
   ]
  },
  {
   "cell_type": "markdown",
   "metadata": {},
   "source": [
    "##### Mathematical expression of the algorithm:"
   ]
  },
  {
   "cell_type": "markdown",
   "metadata": {},
   "source": [
    "For one example $x^{(i)}$:   \n",
    " $$ z^{(i)} = w^T * x^{(i)} +b $$   \n",
    " $$ y^{(i)} = a^{(i)} = sigmoid(z^{(i)})$$   \n",
    " $$L(a^{(i)},y^{(i)}) = -y^{(i)} log(a^{(i)})-(1-y^{(i)})log(1-a^{(i)})$$"
   ]
  },
  {
   "cell_type": "markdown",
   "metadata": {},
   "source": [
    "The total cost over all training examples:\n",
    "$$ J = \\frac{1}{m}\\sum_{i=1}^{m}L(a^{(i)},y^{(i)}) $$"
   ]
  },
  {
   "cell_type": "markdown",
   "metadata": {},
   "source": [
    "#### 4 - Building the algorithm"
   ]
  },
  {
   "cell_type": "markdown",
   "metadata": {},
   "source": [
    "##### 4.1- Activation function    \n",
    "###### Exercise:\n",
    "Finish the sigmoid funciton "
   ]
  },
  {
   "cell_type": "code",
   "execution_count": 157,
   "metadata": {},
   "outputs": [],
   "source": [
    "def sigmoid(z):\n",
    "    '''\n",
    "    Compute the sigmoid of z\n",
    "    Arguments: z -- a scalar or numpy array of any size.\n",
    "    \n",
    "    Return:\n",
    "    s -- sigmoid(z)\n",
    "    '''\n",
    "    s = 1. / (1. + np.exp(-1 * z))\n",
    "    #s = 1 / (1 + e**(-1*z))\n",
    "    return s"
   ]
  },
  {
   "cell_type": "code",
   "execution_count": 158,
   "metadata": {},
   "outputs": [
    {
     "name": "stdout",
     "output_type": "stream",
     "text": [
      "sigmoid([0,2]) = [0.5        0.88079708]\n"
     ]
    }
   ],
   "source": [
    "# Test your code \n",
    "# The result should be [0.5 0.88079708]\n",
    "print(\"sigmoid([0,2]) = \" + str(sigmoid(np.array([0,2]))))"
   ]
  },
  {
   "cell_type": "markdown",
   "metadata": {},
   "source": [
    "##### 4.1-Initializaing parameters\n",
    "###### Exercise:\n",
    "Finishe the initialize_parameters function below"
   ]
  },
  {
   "cell_type": "code",
   "execution_count": 159,
   "metadata": {},
   "outputs": [],
   "source": [
    "# Random innitialize the parameters\n",
    "\n",
    "def initialize_parameters(dim):\n",
    "    '''\n",
    "    Argument: dim -- size of the w vector\n",
    "    \n",
    "    Returns:\n",
    "    w -- initialized vector of shape (dim,1)\n",
    "    b -- initializaed scalar\n",
    "    '''\n",
    "    #初始化w/b\n",
    "    w = np.zeros(shape = (dim, 1))\n",
    "    b = 0\n",
    "    \n",
    "    assert(w.shape == (dim, 1))\n",
    "    assert(isinstance(b, float) or isinstance(b, int))\n",
    "    \n",
    "    return w,b"
   ]
  },
  {
   "cell_type": "markdown",
   "metadata": {},
   "source": [
    "#### 4.3-Forward and backward propagation"
   ]
  },
  {
   "cell_type": "markdown",
   "metadata": {},
   "source": [
    "###### Some mathematical expressions\n",
    "Forward Propagation:   \n",
    ". X    \n",
    ". A = $\\sigma(w^T*X+b) = (a^{(1)},a^{(2)},...,a^{(m)}$   \n",
    ". J = $-\\frac{1}{m} \\sum_{i=1}^{m}y^{(i)}log(a^{(i)}+(1-y^{(i)})log(1-a^{(i)})$       "
   ]
  },
  {
   "cell_type": "markdown",
   "metadata": {},
   "source": [
    "Some derivative: \n",
    "$$\\frac{\\partial{J}}{\\partial{w}} = \\frac{1}{m}X*(A-Y)^T$$   \n",
    "$$\\frac{\\partial{J}}{\\partial{b}} = \\frac{1}{m}\\sum_{i=1}^m(a^{(i)}-y^{(i)}) $$"
   ]
  },
  {
   "cell_type": "markdown",
   "metadata": {},
   "source": [
    "###### Exercise:\n",
    "Finish the function below:"
   ]
  },
  {
   "cell_type": "code",
   "execution_count": 160,
   "metadata": {},
   "outputs": [],
   "source": [
    "def propagate(w,b,X,Y):\n",
    "    '''\n",
    "    Implement the cost function and its gradient for the propagation\n",
    "    \n",
    "    Arguments:\n",
    "    w - weights\n",
    "    b - bias\n",
    "    X - data\n",
    "    Y - ground truth\n",
    "    '''\n",
    "    m = X.shape[1]\n",
    "    \n",
    "    #正向传播计算\n",
    "    A = sigmoid(np.dot(w.T, X) + b)\n",
    "    \n",
    "    cost = (-1 / m) * np.sum(Y * np.log(A) + (1 - Y) * (np.log(1 - A)))\n",
    "    \n",
    "    #反向传播计算梯度\n",
    "    dw = (1 / m) * np.dot(X, (A - Y).T)\n",
    "    db = (1 / m) * np.sum(A - Y)\n",
    "    \n",
    "    assert(dw.shape == w.shape)\n",
    "    assert(db.dtype == float)\n",
    "    cost = np.squeeze(cost)\n",
    "    assert(cost.shape == ())\n",
    "    \n",
    "    grads = {'dw':dw,\n",
    "             'db':db}\n",
    "    return grads, cost"
   ]
  },
  {
   "cell_type": "code",
   "execution_count": 161,
   "metadata": {},
   "outputs": [
    {
     "name": "stdout",
     "output_type": "stream",
     "text": [
      "dw = [[0.99993216]\n",
      " [1.99980262]]\n",
      "db = 0.49993523062470574\n",
      "cost = 6.000064773192205\n"
     ]
    }
   ],
   "source": [
    "#初始化一些参数\n",
    "w, b, X, Y = np.array([[1], [2]]), 2, np.array([[1,2], [3,4]]), np.array([[1, 0]])\n",
    "grads, cost = propagate(w, b, X, Y)\n",
    "print (\"dw = \" + str(grads[\"dw\"]))\n",
    "print (\"db = \" + str(grads[\"db\"]))\n",
    "print (\"cost = \" + str(cost))"
   ]
  },
  {
   "cell_type": "markdown",
   "metadata": {},
   "source": [
    "##### 4.4 -Optimization"
   ]
  },
  {
   "cell_type": "markdown",
   "metadata": {},
   "source": [
    "###### Exercise:\n",
    "Minimizing the cost function using gradient descent.   \n",
    "$$\\theta = \\theta - \\alpha*d\\theta$$ where $\\alpha$ is the learning rate."
   ]
  },
  {
   "cell_type": "code",
   "execution_count": 166,
   "metadata": {},
   "outputs": [],
   "source": [
    "def optimize(w, b, X, Y, num_iterations, learning_rate, print_cost=False):\n",
    "    '''\n",
    "    This function optimize w and b by running a gradient descen algorithm\n",
    "    \n",
    "    Arguments:\n",
    "    w - weights\n",
    "    b - bias\n",
    "    X - data\n",
    "    Y - ground truth\n",
    "    num_iterations -- number of iterations of the optimization loop\n",
    "    learning_rate -- learning rate of the gradient descent update rule\n",
    "    print_cost -- True to print the loss every 100 steps\n",
    "    \n",
    "    Returns:\n",
    "    params - dictionary containing the weights w and bias b\n",
    "    grads -- dictionary containing the gradients of the weights and bias with respect to the cost function\n",
    "    costs -- list of all the costs computed during the optimization, this will be used to plot the learning curve.\n",
    "    \n",
    "    '''\n",
    "    \n",
    "    costs = []\n",
    "    \n",
    "    for i in range(num_iterations):\n",
    "        \n",
    "        grads, cost = propagate(w, b, X, Y)\n",
    "        \n",
    "        dw = grads['dw']\n",
    "        db = grads['db']\n",
    "        #梯度更新\n",
    "        w = w - learning_rate * dw\n",
    "        b = b - learning_rate * db\n",
    "        \n",
    "        if i % 100 == 0:\n",
    "            costs.append(cost)\n",
    "        if print_cost and i % 100 == 0:\n",
    "            print (\"Cost after iteration %i: %f\" %(i, cost))\n",
    "    \n",
    "    params = {\"w\":w,\n",
    "              \"b\":b}\n",
    "    \n",
    "    grads = {\"dw\":dw,\n",
    "             \"db\":db}\n",
    "    \n",
    "    return params, grads, costs"
   ]
  },
  {
   "cell_type": "markdown",
   "metadata": {},
   "source": [
    "###### Exercise\n",
    "The previous function will output the learned w and b. We are able to use w and b to predict the labels for a dataset X. Implement the predict() function.    \n",
    "Two steps to finish this task:   \n",
    "1. Calculate $\\hat{Y} = A = \\sigma(w^T*X+b)$   \n",
    "2. Convert the entries of a into 0 (if activation <= 0.5) or 1 (if activation > 0.5), stores the predictions in a vector Y_prediction. If you wish, you can use an if/else statement in a for loop (though there is also a way to vectorize this)."
   ]
  },
  {
   "cell_type": "code",
   "execution_count": 167,
   "metadata": {},
   "outputs": [],
   "source": [
    "def predict(w, b, X):\n",
    "    '''\n",
    "    Predict whether the label is 0 or 1 using learned logistic regression parameters (w, b)\n",
    "    \n",
    "    Arguments:\n",
    "    w -- weights\n",
    "    b -- bias \n",
    "    X -- data \n",
    "    \n",
    "    Returns:\n",
    "    Y_prediction -- a numpy array (vector) containing all predictions (0/1) for the examples in X\n",
    "    '''\n",
    "    m = X.shape[1]\n",
    "    Y_prediction = np.zeros((1,m))\n",
    "    w = w.reshape(X.shape[0],1)\n",
    "    \n",
    "    #计算预测值\n",
    "    A = sigmoid(np.dot(w.T, X) + b)\n",
    "    \n",
    "    for i in range(A.shape[1]):\n",
    "        Y_prediction[0,i] = 1 if A[0,i] > 0.5 else 0 \n",
    "    \n",
    "    assert(Y_prediction.shape == (1,m))\n",
    "    \n",
    "    return Y_prediction"
   ]
  },
  {
   "cell_type": "markdown",
   "metadata": {},
   "source": [
    "##### 5- Merge all functions into a model"
   ]
  },
  {
   "cell_type": "markdown",
   "metadata": {},
   "source": [
    "Congratulations !! You have finished all the necessary components for constructing a model. Now, Let's take the challenge to merge all the implemented function into one model."
   ]
  },
  {
   "cell_type": "code",
   "execution_count": 168,
   "metadata": {},
   "outputs": [],
   "source": [
    "def model(X_train, Y_train, X_test, Y_test, num_iterations, learning_rate,print_cost):\n",
    "    \"\"\"\n",
    "    Build the logistic regression model by calling all the functions you have implemented.\n",
    "    Arguments:\n",
    "    X_train - training set\n",
    "    Y_train - training label\n",
    "    X_test - test set\n",
    "    Y_test - test label\n",
    "    num_iteration - hyperparameter representing the number of iterations to optimize the parameters\n",
    "    learning_rate -- hyperparameter representing the learning rate used in the update rule of optimize()\n",
    "    print_cost -- Set to true to print the cost every 100 iterations\n",
    "    \n",
    "    Returns:\n",
    "    d - dictionary should contain following information w,b,training_accuracy, test_accuracy,cost\n",
    "    eg: d = {\"w\":w,\n",
    "             \"b\":b,\n",
    "             \"training_accuracy\": traing_accuracy,\n",
    "             \"test_accuracy\":test_accuracy,\n",
    "             \"cost\":cost}\n",
    "    \"\"\"\n",
    "    \n",
    "    w, b = initialize_parameters(X_train.shape[0])\n",
    "    \n",
    "    params, grads , costs = optimize(w, b, X_train, y_train, num_iterations, learning_rate, print_cost)\n",
    "    \n",
    "    w, b = params['w'], params['b']\n",
    "    \n",
    "    Y_prediction_test = predict(w, b, X_test)\n",
    "    Y_prediction_train = predict(w, b, X_train)\n",
    "    \n",
    "    d = {\n",
    "        'costs': costs,\n",
    "        'Y_prediction_test': Y_prediction_test,\n",
    "        'Y_prediction_train': Y_prediction_train,\n",
    "        'w': w,\n",
    "        'b': b,\n",
    "        'learning_rate': learning_rate,\n",
    "        'num_iterations': num_iterations\n",
    "    }\n",
    "    \n",
    "    return d"
   ]
  },
  {
   "cell_type": "code",
   "execution_count": 195,
   "metadata": {
    "scrolled": true
   },
   "outputs": [
    {
     "name": "stdout",
     "output_type": "stream",
     "text": [
      "Cost after iteration 0: 0.693147\n",
      "Cost after iteration 100: 0.428140\n",
      "Cost after iteration 200: 0.371503\n",
      "Cost after iteration 300: 0.345188\n",
      "Cost after iteration 400: 0.329215\n",
      "Cost after iteration 500: 0.318204\n",
      "Cost after iteration 600: 0.310046\n",
      "Cost after iteration 700: 0.303718\n",
      "Cost after iteration 800: 0.298653\n",
      "Cost after iteration 900: 0.294503\n",
      "Cost after iteration 1000: 0.291042\n",
      "Cost after iteration 1100: 0.288114\n",
      "Cost after iteration 1200: 0.285609\n",
      "Cost after iteration 1300: 0.283444\n",
      "Cost after iteration 1400: 0.281558\n",
      "Cost after iteration 1500: 0.279902\n",
      "Cost after iteration 1600: 0.278440\n",
      "Cost after iteration 1700: 0.277141\n",
      "Cost after iteration 1800: 0.275981\n",
      "Cost after iteration 1900: 0.274941\n",
      "Cost after iteration 2000: 0.274004\n",
      "Cost after iteration 2100: 0.273157\n",
      "Cost after iteration 2200: 0.272388\n",
      "Cost after iteration 2300: 0.271688\n",
      "Cost after iteration 2400: 0.271049\n",
      "Cost after iteration 2500: 0.270463\n",
      "Cost after iteration 2600: 0.269926\n",
      "Cost after iteration 2700: 0.269431\n",
      "Cost after iteration 2800: 0.268974\n",
      "Cost after iteration 2900: 0.268552\n",
      "Cost after iteration 3000: 0.268161\n",
      "Cost after iteration 3100: 0.267798\n",
      "Cost after iteration 3200: 0.267460\n",
      "Cost after iteration 3300: 0.267145\n",
      "Cost after iteration 3400: 0.266851\n",
      "Cost after iteration 3500: 0.266576\n",
      "Cost after iteration 3600: 0.266318\n",
      "Cost after iteration 3700: 0.266077\n",
      "Cost after iteration 3800: 0.265850\n",
      "Cost after iteration 3900: 0.265636\n",
      "Cost after iteration 4000: 0.265435\n",
      "Cost after iteration 4100: 0.265246\n",
      "Cost after iteration 4200: 0.265067\n",
      "Cost after iteration 4300: 0.264898\n",
      "Cost after iteration 4400: 0.264737\n",
      "Cost after iteration 4500: 0.264586\n",
      "Cost after iteration 4600: 0.264442\n",
      "Cost after iteration 4700: 0.264305\n",
      "Cost after iteration 4800: 0.264175\n",
      "Cost after iteration 4900: 0.264052\n"
     ]
    }
   ],
   "source": [
    "d = model(X_train, y_train, X_test, y_test, num_iterations = 5000, learning_rate = 0.001, print_cost = True)"
   ]
  },
  {
   "cell_type": "markdown",
   "metadata": {},
   "source": [
    "### 4.选做题"
   ]
  },
  {
   "cell_type": "markdown",
   "metadata": {},
   "source": [
    "Congratulations on building your first logistic regression model. It is your time to analyze it further."
   ]
  },
  {
   "cell_type": "markdown",
   "metadata": {},
   "source": [
    "##### 4.1 Observe the effect of learning rate on the leraning process.   \n",
    "Hits: plot the learning curve with different learning rate"
   ]
  },
  {
   "cell_type": "code",
   "execution_count": 196,
   "metadata": {},
   "outputs": [
    {
     "data": {
      "image/png": "[encoded data removed]",
      "text/plain": [
       "<Figure size 432x288 with 1 Axes>"
      ]
     },
     "metadata": {
      "needs_background": "light"
     },
     "output_type": "display_data"
    }
   ],
   "source": [
    "costs = np.squeeze(d['costs'])\n",
    "plt.plot(costs)\n",
    "plt.ylabel('cost')\n",
    "plt.xlabel('iterations (per hundreds)')\n",
    "plt.title(\"Learning rate =\" + str(d[\"learning_rate\"]))\n",
    "plt.show()"
   ]
  },
  {
   "cell_type": "code",
   "execution_count": 199,
   "metadata": {},
   "outputs": [
    {
     "name": "stdout",
     "output_type": "stream",
     "text": [
      "learning rate is: 0.01\n",
      "{'costs': [0.6931471805599453, 0.4241197785790109, 0.34577649895490375, 0.3227080180849899, 0.30857104327385637, 0.3004286283999801, 0.29570629586807984, 0.2926797346934324, 0.2905748910544518, 0.2890373746108629, 0.2878816733416273, 0.2869884635956996, 0.2862723038373455, 0.2856764275686939, 0.2851686642927675, 0.28473173816939046, 0.2843536989650756, 0.28402374629246674, 0.2837324466273346, 0.28347262692124187], 'Y_prediction_test': array([[0., 0., 0., 0., 1., 1., 0., 1., 1., 0., 1., 0., 0., 1., 1., 0.,\n",
      "        0., 0., 1., 1., 1., 0., 1., 0., 1., 0., 0., 0., 1., 1., 1., 1.,\n",
      "        1., 0., 0., 1., 1., 1., 0., 1., 1., 1., 1., 1., 0., 0., 1., 0.,\n",
      "        1., 1., 1., 1., 1., 1., 0., 1., 1., 0., 1., 1., 1., 0., 1., 1.,\n",
      "        1., 1., 1., 1., 0., 1., 1., 0., 1., 1., 0., 0., 1., 1., 0., 0.,\n",
      "        1., 0., 1., 1., 1., 1., 0., 0., 1., 0., 1., 1., 0., 0., 0., 1.,\n",
      "        0., 1., 0., 0., 1., 0., 0., 1., 0., 1., 0., 0., 1., 0., 0., 1.,\n",
      "        0., 1., 0., 1., 0., 1., 1., 1., 0., 1., 0., 1., 0., 0., 0., 1.,\n",
      "        0., 1., 1., 0., 1., 0., 0., 0., 1., 1., 1., 1., 0., 0., 1., 1.,\n",
      "        0., 1., 0., 1., 1., 1., 0., 1., 0., 0., 0., 1., 0., 1., 0., 1.,\n",
      "        1., 0., 0., 0., 0., 1., 1., 1., 1., 1., 0., 1., 0., 1., 1., 1.,\n",
      "        1., 0., 0., 1., 0., 0., 0., 1., 1., 0., 1., 1., 1., 1., 1., 1.,\n",
      "        0., 1., 1., 0., 1., 0., 0., 1., 1., 1., 0., 1., 1., 1., 1., 1.,\n",
      "        1., 0., 1., 0., 1., 1., 0., 0., 1., 1., 0., 1., 1., 1., 0., 1.,\n",
      "        0., 0., 0., 1., 0., 0., 1., 1., 1., 0., 1., 0., 0., 1., 0., 0.,\n",
      "        0., 0., 1., 1., 0., 0., 0., 1., 1., 0., 1., 0., 0., 1., 1., 1.,\n",
      "        1., 0., 1., 1., 1., 1., 1., 0., 1., 0., 1., 1., 1., 0., 1., 0.,\n",
      "        0., 1., 0., 0., 1., 1., 0., 1., 1., 1., 1., 1., 0., 1., 0., 1.,\n",
      "        1., 1., 0., 1., 1., 1., 0., 1., 0., 1., 0., 1., 0., 1., 0., 1.,\n",
      "        0., 0., 1., 0., 1., 1., 0., 1., 0., 1., 0., 0., 0., 1., 0., 0.,\n",
      "        1., 0., 0., 1., 0., 1., 1., 0., 0., 0., 1., 1., 0., 1., 1., 1.,\n",
      "        0., 0., 1., 1., 1., 0., 0., 1., 0., 0., 1., 1., 1., 1., 0., 0.,\n",
      "        0., 1., 1., 0., 1., 0., 1., 0., 1., 0., 0., 1., 1., 1., 1., 1.,\n",
      "        1., 1., 1., 1., 0., 1., 1., 1., 1., 1., 0., 1., 1., 1., 0., 1.,\n",
      "        1., 1., 1., 0., 0., 0., 0., 1., 1., 1., 1., 0., 0., 1., 0., 0.,\n",
      "        0., 0., 1., 1., 0., 0., 0., 1., 1., 1., 1., 0., 0., 1., 0., 1.,\n",
      "        1., 1., 1., 0., 0., 0., 0., 0., 1., 1., 1., 1., 0., 1., 0., 1.,\n",
      "        0., 0., 0., 0., 1., 1., 0., 0., 1., 1., 1., 1., 0., 0., 0., 0.,\n",
      "        1., 1.]]), 'Y_prediction_train': array([[0., 1., 1., ..., 0., 1., 0.]]), 'w': array([[ 0.00000000e+00],\n",
      "       [-2.75817509e-02],\n",
      "       [ 2.48232835e-05],\n",
      "       [-5.89401738e-04],\n",
      "       [ 9.79863094e-02],\n",
      "       [ 1.33629711e-01],\n",
      "       [ 1.10355857e-01],\n",
      "       [-5.19138492e-02],\n",
      "       [ 5.36577018e-02],\n",
      "       [-1.51324304e-01],\n",
      "       [ 1.55150745e-01],\n",
      "       [ 8.75778100e-02],\n",
      "       [-4.44605188e-02],\n",
      "       [-7.58859563e-02],\n",
      "       [ 1.61129943e-02],\n",
      "       [ 7.09648229e-02],\n",
      "       [ 6.66045408e-03],\n",
      "       [ 1.32999419e-01],\n",
      "       [ 1.37635033e-01],\n",
      "       [ 4.98437975e-04],\n",
      "       [-2.28513242e-01],\n",
      "       [-8.02800469e-02],\n",
      "       [-1.12235293e-01],\n",
      "       [-7.18714039e-02],\n",
      "       [-6.12869990e-03],\n",
      "       [-2.04135273e-01],\n",
      "       [ 3.83325840e-02],\n",
      "       [ 1.87750559e-01],\n",
      "       [ 3.18161686e-02],\n",
      "       [ 2.03976699e-01],\n",
      "       [-2.07456771e-01],\n",
      "       [-1.67850066e-02],\n",
      "       [ 0.00000000e+00],\n",
      "       [-2.85111880e-01],\n",
      "       [-2.91695014e-02],\n",
      "       [ 2.37452171e-01],\n",
      "       [-1.26606334e-01],\n",
      "       [-1.81244569e-02],\n",
      "       [ 7.43766242e-02],\n",
      "       [ 0.00000000e+00],\n",
      "       [-7.36557036e-03],\n",
      "       [ 1.41175805e-02],\n",
      "       [ 6.85858284e-02],\n",
      "       [-6.73389163e-02],\n",
      "       [ 1.44185365e-01],\n",
      "       [ 8.47728853e-02],\n",
      "       [ 8.90873241e-02],\n",
      "       [ 2.69274784e-02],\n",
      "       [-5.90724105e-04],\n",
      "       [-7.25721584e-02],\n",
      "       [ 4.26130157e-02],\n",
      "       [-6.34318346e-02],\n",
      "       [-3.31296698e-01],\n",
      "       [-5.25797219e-02],\n",
      "       [ 8.40542256e-02],\n",
      "       [ 9.69431189e-03],\n",
      "       [ 0.00000000e+00],\n",
      "       [-8.63803406e-02],\n",
      "       [ 1.33701155e-02],\n",
      "       [-6.07687438e-02],\n",
      "       [-1.67227345e-01],\n",
      "       [-6.63442310e-02],\n",
      "       [-8.99826083e-02],\n",
      "       [-1.87258613e-01]]), 'b': -0.02767114339010404, 'learning_rate': 0.01, 'num_iterations': 2000}\n",
      "learning rate is: 0.001\n",
      "{'costs': [0.6931471805599453, 0.42814008747313764, 0.37150308583269703, 0.34518806614853037, 0.3292147724786352, 0.31820378375914327, 0.310045851206561, 0.30371825165674765, 0.2986527861341096, 0.29450274453832437, 0.291041727501395, 0.28811419071695454, 0.28560899411140644, 0.2834442205812589, 0.28155795562095437, 0.2799024227424207, 0.2784401080545757, 0.27714111598026614, 0.27598131535868753, 0.27494100910994157], 'Y_prediction_test': array([[0., 0., 0., 0., 1., 1., 0., 1., 1., 0., 1., 0., 0., 1., 0., 0.,\n",
      "        0., 0., 1., 1., 1., 0., 1., 0., 1., 0., 0., 0., 0., 1., 0., 1.,\n",
      "        1., 0., 0., 1., 1., 1., 0., 1., 1., 1., 1., 1., 0., 0., 1., 0.,\n",
      "        1., 1., 1., 1., 1., 1., 0., 1., 1., 0., 1., 0., 1., 0., 1., 1.,\n",
      "        1., 1., 1., 1., 0., 1., 1., 0., 1., 1., 0., 0., 0., 1., 0., 0.,\n",
      "        1., 0., 0., 1., 1., 1., 0., 0., 1., 0., 1., 1., 0., 0., 0., 1.,\n",
      "        0., 0., 0., 0., 1., 0., 0., 1., 0., 1., 0., 0., 1., 0., 0., 1.,\n",
      "        0., 0., 0., 1., 0., 1., 1., 1., 0., 1., 0., 1., 0., 0., 0., 1.,\n",
      "        0., 1., 1., 0., 1., 0., 0., 0., 1., 1., 0., 1., 0., 0., 1., 0.,\n",
      "        0., 1., 0., 1., 1., 1., 0., 1., 0., 0., 0., 1., 0., 0., 0., 1.,\n",
      "        1., 0., 0., 0., 0., 1., 1., 1., 1., 1., 0., 1., 0., 1., 1., 1.,\n",
      "        1., 0., 0., 1., 0., 0., 0., 1., 1., 0., 1., 1., 1., 1., 1., 0.,\n",
      "        0., 1., 1., 0., 1., 0., 0., 1., 1., 1., 0., 1., 1., 1., 1., 1.,\n",
      "        1., 0., 1., 0., 1., 1., 0., 0., 1., 1., 0., 1., 1., 1., 0., 1.,\n",
      "        0., 0., 0., 1., 0., 0., 1., 1., 1., 0., 1., 0., 0., 1., 0., 0.,\n",
      "        0., 0., 1., 1., 0., 0., 0., 1., 1., 0., 1., 0., 0., 1., 1., 1.,\n",
      "        1., 0., 0., 1., 0., 1., 1., 0., 1., 0., 0., 1., 1., 0., 1., 0.,\n",
      "        0., 1., 0., 0., 1., 1., 0., 1., 0., 1., 1., 1., 0., 1., 0., 1.,\n",
      "        1., 1., 0., 1., 1., 1., 0., 1., 0., 1., 0., 1., 0., 1., 0., 1.,\n",
      "        0., 0., 1., 0., 1., 0., 0., 1., 0., 1., 0., 0., 0., 1., 0., 0.,\n",
      "        1., 0., 0., 1., 0., 1., 0., 0., 0., 0., 1., 1., 0., 1., 1., 1.,\n",
      "        0., 0., 1., 1., 1., 0., 0., 1., 0., 0., 1., 1., 0., 1., 0., 0.,\n",
      "        0., 1., 1., 0., 1., 0., 1., 0., 1., 0., 0., 0., 1., 1., 1., 0.,\n",
      "        1., 1., 1., 1., 0., 1., 1., 1., 0., 1., 0., 1., 1., 1., 0., 1.,\n",
      "        1., 1., 1., 0., 0., 0., 0., 1., 1., 1., 0., 0., 0., 1., 0., 0.,\n",
      "        0., 0., 1., 1., 0., 0., 0., 1., 1., 1., 1., 0., 0., 1., 0., 1.,\n",
      "        0., 1., 1., 0., 0., 0., 0., 0., 1., 1., 1., 0., 0., 1., 0., 1.,\n",
      "        0., 0., 0., 0., 1., 1., 0., 0., 1., 1., 1., 1., 0., 0., 0., 0.,\n",
      "        1., 1.]]), 'Y_prediction_train': array([[1., 1., 0., ..., 0., 1., 0.]]), 'w': array([[ 0.        ],\n",
      "       [-0.01284733],\n",
      "       [-0.00722683],\n",
      "       [-0.00774633],\n",
      "       [ 0.04693492],\n",
      "       [ 0.10612324],\n",
      "       [ 0.07725849],\n",
      "       [ 0.00247366],\n",
      "       [ 0.00522553],\n",
      "       [-0.04867652],\n",
      "       [ 0.10271206],\n",
      "       [ 0.04468751],\n",
      "       [-0.02579742],\n",
      "       [-0.04126881],\n",
      "       [ 0.01371975],\n",
      "       [ 0.00515099],\n",
      "       [ 0.00057878],\n",
      "       [ 0.02477977],\n",
      "       [ 0.11499703],\n",
      "       [-0.01529325],\n",
      "       [-0.17328584],\n",
      "       [-0.0398746 ],\n",
      "       [-0.0749206 ],\n",
      "       [-0.01451428],\n",
      "       [-0.00054178],\n",
      "       [-0.10871102],\n",
      "       [ 0.02706402],\n",
      "       [ 0.15284705],\n",
      "       [ 0.02330681],\n",
      "       [ 0.11005137],\n",
      "       [-0.11292083],\n",
      "       [-0.00199946],\n",
      "       [ 0.        ],\n",
      "       [-0.18932149],\n",
      "       [-0.00054718],\n",
      "       [ 0.14680555],\n",
      "       [-0.06441335],\n",
      "       [ 0.00255398],\n",
      "       [ 0.01957553],\n",
      "       [ 0.        ],\n",
      "       [-0.00114808],\n",
      "       [-0.04038589],\n",
      "       [ 0.03399087],\n",
      "       [-0.00613688],\n",
      "       [ 0.04425656],\n",
      "       [ 0.0539333 ],\n",
      "       [ 0.06246506],\n",
      "       [ 0.00600199],\n",
      "       [-0.00029823],\n",
      "       [-0.01623527],\n",
      "       [ 0.02413313],\n",
      "       [-0.05215625],\n",
      "       [-0.22451473],\n",
      "       [-0.04606359],\n",
      "       [ 0.05394682],\n",
      "       [-0.00450796],\n",
      "       [ 0.        ],\n",
      "       [-0.01427984],\n",
      "       [-0.00645703],\n",
      "       [-0.03674834],\n",
      "       [-0.1297503 ],\n",
      "       [-0.04418715],\n",
      "       [-0.0474881 ],\n",
      "       [-0.05619654]]), 'b': -0.004074815726002863, 'learning_rate': 0.001, 'num_iterations': 2000}\n",
      "learning rate is: 0.0001\n"
     ]
    },
    {
     "name": "stdout",
     "output_type": "stream",
     "text": [
      "{'costs': [0.6931471805599453, 0.6306771676552809, 0.5839667190750502, 0.5481287279028103, 0.5199280010791499, 0.4972238106449735, 0.47857504974453646, 0.4629886893462069, 0.4497637281020838, 0.43839385858611085, 0.4285056549784128, 0.41981843813480596, 0.4121176163107185, 0.405236586789582, 0.39904419739035374, 0.3934358960822901, 0.3883273760511234, 0.3836499405195085, 0.37934707297994813, 0.37537186561098435], 'Y_prediction_test': array([[0., 0., 0., 1., 1., 1., 0., 1., 0., 0., 1., 0., 0., 1., 0., 0.,\n",
      "        0., 0., 1., 1., 1., 0., 1., 0., 1., 1., 0., 0., 0., 1., 0., 1.,\n",
      "        1., 0., 0., 1., 1., 1., 1., 1., 0., 1., 1., 1., 0., 0., 1., 0.,\n",
      "        1., 1., 1., 1., 1., 1., 1., 1., 1., 0., 1., 1., 1., 0., 1., 1.,\n",
      "        1., 1., 1., 1., 0., 1., 1., 0., 1., 1., 0., 0., 0., 1., 0., 0.,\n",
      "        1., 0., 0., 1., 1., 1., 0., 1., 1., 0., 1., 1., 0., 0., 0., 1.,\n",
      "        0., 1., 0., 0., 1., 0., 0., 1., 0., 1., 0., 0., 1., 0., 0., 1.,\n",
      "        0., 0., 0., 1., 0., 1., 1., 1., 0., 1., 0., 1., 0., 0., 0., 1.,\n",
      "        0., 1., 1., 0., 1., 0., 0., 0., 0., 1., 0., 1., 0., 0., 1., 0.,\n",
      "        0., 1., 0., 1., 1., 1., 0., 1., 0., 0., 0., 1., 0., 0., 0., 1.,\n",
      "        1., 0., 0., 0., 0., 1., 1., 1., 1., 1., 0., 1., 0., 1., 1., 1.,\n",
      "        0., 0., 0., 1., 0., 0., 0., 1., 1., 0., 1., 1., 1., 1., 1., 1.,\n",
      "        0., 1., 1., 0., 1., 0., 0., 1., 1., 1., 0., 1., 1., 1., 0., 0.,\n",
      "        1., 0., 1., 0., 1., 1., 0., 0., 1., 1., 0., 1., 1., 0., 0., 1.,\n",
      "        0., 0., 0., 1., 0., 0., 1., 1., 1., 0., 1., 0., 1., 1., 0., 0.,\n",
      "        0., 0., 1., 1., 0., 0., 0., 1., 1., 0., 1., 0., 0., 1., 1., 1.,\n",
      "        1., 0., 1., 1., 0., 1., 1., 0., 1., 0., 0., 1., 0., 0., 1., 0.,\n",
      "        0., 1., 0., 0., 1., 1., 0., 1., 0., 1., 1., 1., 0., 1., 0., 1.,\n",
      "        1., 1., 0., 1., 1., 1., 0., 1., 0., 1., 0., 1., 0., 1., 0., 1.,\n",
      "        0., 0., 1., 0., 1., 0., 0., 1., 0., 1., 0., 0., 0., 1., 0., 0.,\n",
      "        1., 0., 0., 1., 0., 0., 0., 0., 0., 0., 0., 1., 0., 1., 1., 1.,\n",
      "        0., 0., 1., 1., 1., 0., 0., 1., 0., 0., 1., 1., 0., 1., 0., 0.,\n",
      "        0., 1., 1., 0., 1., 0., 1., 0., 1., 0., 0., 0., 1., 1., 1., 0.,\n",
      "        1., 1., 1., 1., 0., 0., 1., 1., 0., 1., 0., 1., 1., 1., 0., 1.,\n",
      "        1., 1., 1., 0., 0., 0., 0., 1., 1., 0., 1., 0., 0., 1., 0., 0.,\n",
      "        0., 0., 1., 1., 0., 0., 0., 1., 1., 1., 1., 0., 0., 0., 0., 1.,\n",
      "        0., 1., 1., 0., 0., 0., 0., 0., 1., 1., 1., 0., 0., 1., 0., 1.,\n",
      "        0., 0., 0., 0., 1., 1., 0., 0., 1., 1., 0., 1., 0., 0., 0., 0.,\n",
      "        1., 1.]]), 'Y_prediction_train': array([[1., 1., 0., ..., 0., 1., 0.]]), 'w': array([[ 0.00000000e+00],\n",
      "       [-2.73443570e-03],\n",
      "       [-3.42814020e-03],\n",
      "       [ 4.04214782e-04],\n",
      "       [ 1.53208818e-02],\n",
      "       [ 5.79250051e-02],\n",
      "       [ 3.56948704e-02],\n",
      "       [ 3.52117339e-03],\n",
      "       [ 4.10578280e-04],\n",
      "       [-1.10350339e-02],\n",
      "       [ 3.74488737e-02],\n",
      "       [ 2.78667806e-03],\n",
      "       [-3.67462374e-02],\n",
      "       [ 5.55024943e-04],\n",
      "       [ 1.89383981e-02],\n",
      "       [ 1.36921436e-03],\n",
      "       [-1.29341483e-05],\n",
      "       [ 6.28910963e-04],\n",
      "       [ 4.99357543e-02],\n",
      "       [-1.69180836e-02],\n",
      "       [-7.39911985e-02],\n",
      "       [-1.66664264e-02],\n",
      "       [-1.56259199e-02],\n",
      "       [-2.33793806e-03],\n",
      "       [-7.36492950e-05],\n",
      "       [-2.69141262e-02],\n",
      "       [ 3.60907187e-02],\n",
      "       [ 7.45651358e-02],\n",
      "       [ 1.60061656e-02],\n",
      "       [ 2.15073292e-02],\n",
      "       [-2.98145023e-02],\n",
      "       [-2.22212571e-04],\n",
      "       [ 0.00000000e+00],\n",
      "       [-5.50636134e-02],\n",
      "       [ 1.19671996e-02],\n",
      "       [ 6.80835487e-02],\n",
      "       [-8.33737774e-04],\n",
      "       [ 1.26043664e-02],\n",
      "       [-4.51714377e-03],\n",
      "       [ 0.00000000e+00],\n",
      "       [-4.33114854e-04],\n",
      "       [-2.82141046e-02],\n",
      "       [-1.92138356e-03],\n",
      "       [ 8.32640014e-04],\n",
      "       [-2.39756299e-02],\n",
      "       [ 7.53101255e-03],\n",
      "       [ 2.62653613e-02],\n",
      "       [ 1.76785989e-03],\n",
      "       [-1.92430007e-04],\n",
      "       [-5.35757908e-03],\n",
      "       [ 6.35953922e-04],\n",
      "       [-1.32333814e-02],\n",
      "       [-1.00738732e-01],\n",
      "       [-3.21374339e-02],\n",
      "       [ 2.21354614e-02],\n",
      "       [-2.08521409e-03],\n",
      "       [ 0.00000000e+00],\n",
      "       [-1.99988592e-03],\n",
      "       [-3.93946038e-04],\n",
      "       [-5.93921891e-03],\n",
      "       [-5.17349605e-02],\n",
      "       [-1.03555823e-02],\n",
      "       [-1.48009968e-02],\n",
      "       [-1.65082963e-02]]), 'b': -0.0006703400785289911, 'learning_rate': 0.0001, 'num_iterations': 2000}\n",
      "learning rate is: 1e-05\n",
      "{'costs': [0.6931471805599453, 0.6860121690403835, 0.6790956001826073, 0.6723892103577461, 0.6658852335757117, 0.6595762173265555, 0.6534549742205218, 0.6475145683111921, 0.6417483096986104, 0.6361497506070859, 0.6307126812613484, 0.6254311252194403, 0.6202993341613435, 0.6153117822128452, 0.6104631598968605, 0.6057483677998166, 0.6011625100319872, 0.5967008875514035, 0.5923589914120777, 0.5881324959890155], 'Y_prediction_test': array([[0., 0., 0., 1., 1., 1., 0., 1., 0., 0., 1., 0., 0., 1., 0., 0.,\n",
      "        0., 0., 1., 1., 1., 0., 1., 0., 1., 1., 0., 0., 0., 1., 0., 1.,\n",
      "        1., 0., 0., 1., 1., 1., 1., 1., 0., 1., 1., 1., 0., 0., 1., 0.,\n",
      "        1., 1., 1., 1., 0., 1., 1., 1., 1., 0., 1., 1., 1., 0., 1., 1.,\n",
      "        1., 1., 1., 1., 0., 1., 1., 0., 1., 1., 0., 0., 0., 1., 0., 0.,\n",
      "        1., 0., 0., 1., 1., 1., 0., 1., 1., 0., 1., 1., 0., 0., 0., 1.,\n",
      "        0., 1., 0., 0., 1., 0., 0., 1., 0., 1., 0., 0., 1., 0., 0., 1.,\n",
      "        1., 0., 0., 1., 0., 1., 1., 1., 0., 1., 0., 0., 0., 0., 0., 1.,\n",
      "        0., 1., 1., 0., 1., 0., 0., 0., 0., 1., 0., 0., 0., 0., 1., 0.,\n",
      "        0., 1., 0., 1., 1., 1., 0., 1., 0., 0., 0., 1., 0., 0., 0., 1.,\n",
      "        1., 0., 0., 0., 0., 1., 1., 1., 1., 1., 0., 1., 0., 1., 1., 1.,\n",
      "        0., 0., 0., 1., 0., 0., 0., 1., 1., 0., 1., 1., 1., 1., 1., 1.,\n",
      "        0., 1., 1., 0., 1., 0., 0., 1., 1., 1., 0., 1., 0., 1., 0., 0.,\n",
      "        1., 0., 1., 0., 1., 1., 0., 0., 1., 1., 0., 0., 1., 0., 0., 1.,\n",
      "        0., 0., 0., 1., 0., 0., 1., 1., 0., 0., 1., 0., 1., 1., 0., 0.,\n",
      "        0., 0., 1., 1., 0., 0., 0., 1., 1., 0., 1., 0., 0., 1., 1., 1.,\n",
      "        1., 0., 0., 1., 0., 1., 1., 0., 1., 0., 0., 1., 0., 0., 1., 0.,\n",
      "        0., 1., 0., 0., 1., 1., 0., 1., 0., 1., 1., 1., 0., 1., 0., 1.,\n",
      "        1., 1., 0., 1., 1., 1., 0., 1., 0., 1., 0., 1., 0., 1., 0., 1.,\n",
      "        0., 0., 1., 0., 1., 0., 0., 1., 0., 1., 0., 0., 0., 1., 1., 0.,\n",
      "        1., 0., 0., 1., 0., 0., 0., 0., 0., 0., 0., 1., 0., 1., 1., 1.,\n",
      "        0., 0., 1., 1., 1., 0., 1., 1., 0., 0., 1., 1., 0., 1., 0., 0.,\n",
      "        0., 1., 1., 0., 1., 0., 1., 0., 1., 0., 0., 0., 1., 1., 1., 0.,\n",
      "        1., 1., 1., 1., 0., 0., 1., 1., 0., 1., 0., 1., 1., 1., 0., 1.,\n",
      "        1., 1., 1., 1., 0., 0., 0., 1., 1., 0., 1., 0., 0., 1., 0., 0.,\n",
      "        0., 0., 1., 1., 0., 0., 0., 1., 1., 1., 1., 0., 0., 0., 0., 1.,\n",
      "        0., 1., 1., 0., 0., 0., 0., 0., 1., 1., 1., 0., 0., 1., 0., 1.,\n",
      "        0., 0., 0., 0., 0., 1., 0., 0., 1., 1., 0., 1., 0., 0., 0., 0.,\n",
      "        1., 1.]]), 'Y_prediction_train': array([[1., 1., 0., ..., 0., 1., 0.]]), 'w': array([[ 0.00000000e+00],\n",
      "       [-3.10909360e-04],\n",
      "       [ 1.50224136e-04],\n",
      "       [ 1.07569208e-03],\n",
      "       [ 3.99355135e-03],\n",
      "       [ 1.35755607e-02],\n",
      "       [ 7.56820307e-03],\n",
      "       [ 7.66768908e-04],\n",
      "       [ 3.76314502e-05],\n",
      "       [-9.99513277e-04],\n",
      "       [ 8.10593242e-03],\n",
      "       [-9.24987387e-04],\n",
      "       [-1.04056979e-02],\n",
      "       [ 1.72160813e-03],\n",
      "       [ 5.04182231e-03],\n",
      "       [ 3.43068458e-04],\n",
      "       [-6.29256272e-06],\n",
      "       [ 1.20640172e-03],\n",
      "       [ 1.03156965e-02],\n",
      "       [-6.19766220e-03],\n",
      "       [-1.56136667e-02],\n",
      "       [-3.41946866e-03],\n",
      "       [-1.31454722e-03],\n",
      "       [-2.15324652e-04],\n",
      "       [-7.52565368e-06],\n",
      "       [-2.14719060e-03],\n",
      "       [ 9.99340578e-03],\n",
      "       [ 1.33594176e-02],\n",
      "       [ 3.05415581e-03],\n",
      "       [ 2.82425605e-03],\n",
      "       [-3.86034333e-03],\n",
      "       [-2.23373238e-05],\n",
      "       [ 0.00000000e+00],\n",
      "       [-7.55075174e-03],\n",
      "       [ 4.12417821e-03],\n",
      "       [ 1.36492167e-02],\n",
      "       [ 1.84803917e-03],\n",
      "       [ 3.71474756e-03],\n",
      "       [-7.71052848e-04],\n",
      "       [ 0.00000000e+00],\n",
      "       [-9.59081261e-05],\n",
      "       [-5.56829347e-03],\n",
      "       [-2.59488519e-03],\n",
      "       [-1.13758142e-03],\n",
      "       [-6.81748528e-03],\n",
      "       [-7.05775093e-05],\n",
      "       [ 4.61770737e-03],\n",
      "       [ 2.82001174e-04],\n",
      "       [-5.46326014e-05],\n",
      "       [-1.19769804e-03],\n",
      "       [-1.81447413e-03],\n",
      "       [-3.06993579e-03],\n",
      "       [-1.94726079e-02],\n",
      "       [-7.96168638e-03],\n",
      "       [ 2.85710784e-03],\n",
      "       [-5.50495932e-04],\n",
      "       [ 0.00000000e+00],\n",
      "       [-1.74630318e-04],\n",
      "       [ 1.03593047e-03],\n",
      "       [ 6.23009656e-04],\n",
      "       [-9.97053995e-03],\n",
      "       [-3.04045440e-03],\n",
      "       [-3.62221767e-03],\n",
      "       [-3.01066991e-03]]), 'b': -6.090549768942765e-05, 'learning_rate': 1e-05, 'num_iterations': 2000}\n"
     ]
    },
    {
     "data": {
      "image/png": "[encoded data removed]",
      "text/plain": [
       "<Figure size 432x288 with 1 Axes>"
      ]
     },
     "metadata": {
      "needs_background": "light"
     },
     "output_type": "display_data"
    }
   ],
   "source": [
    "learning_rates = [0.01, 0.001, 0.0001,0.00001]\n",
    "models = {}\n",
    "for i in learning_rates:\n",
    "    print (\"learning rate is: \" + str(i))\n",
    "    models[str(i)] = model(X_train, y_train, X_test, y_test, num_iterations = 2000, learning_rate = i, print_cost = False)\n",
    "    plt.plot(np.squeeze(models[str(i)][\"costs\"]), label= str(models[str(i)][\"learning_rate\"]))\n",
    "    print(models[str(i)])\n",
    "\n",
    "plt.ylabel('cost')\n",
    "plt.xlabel('iterations')\n",
    "\n",
    "legend = plt.legend(loc='upper center', shadow=True)\n",
    "frame = legend.get_frame()\n",
    "frame.set_facecolor('1')\n",
    "plt.show()\n"
   ]
  },
  {
   "cell_type": "markdown",
   "metadata": {},
   "source": []
  },
  {
   "cell_type": "markdown",
   "metadata": {},
   "source": [
    "##### 4.2 Observe the effect of iteration_num on the test accuracy."
   ]
  },
  {
   "cell_type": "code",
   "execution_count": 200,
   "metadata": {},
   "outputs": [
    {
     "name": "stdout",
     "output_type": "stream",
     "text": [
      "iteration_num is: 2000\n",
      "iteration_num is: 5000\n",
      "iteration_num is: 8000\n",
      "{'costs': [0.6931471805599453, 0.42814008747313764, 0.37150308583269703, 0.34518806614853037, 0.3292147724786352, 0.31820378375914327, 0.310045851206561, 0.30371825165674765, 0.2986527861341096, 0.29450274453832437, 0.291041727501395, 0.28811419071695454, 0.28560899411140644, 0.2834442205812589, 0.28155795562095437, 0.2799024227424207, 0.2784401080545757, 0.27714111598026614, 0.27598131535868753, 0.27494100910994157], 'Y_prediction_test': array([[0., 0., 0., 0., 1., 1., 0., 1., 1., 0., 1., 0., 0., 1., 0., 0.,\n",
      "        0., 0., 1., 1., 1., 0., 1., 0., 1., 0., 0., 0., 0., 1., 0., 1.,\n",
      "        1., 0., 0., 1., 1., 1., 0., 1., 1., 1., 1., 1., 0., 0., 1., 0.,\n",
      "        1., 1., 1., 1., 1., 1., 0., 1., 1., 0., 1., 0., 1., 0., 1., 1.,\n",
      "        1., 1., 1., 1., 0., 1., 1., 0., 1., 1., 0., 0., 0., 1., 0., 0.,\n",
      "        1., 0., 0., 1., 1., 1., 0., 0., 1., 0., 1., 1., 0., 0., 0., 1.,\n",
      "        0., 0., 0., 0., 1., 0., 0., 1., 0., 1., 0., 0., 1., 0., 0., 1.,\n",
      "        0., 0., 0., 1., 0., 1., 1., 1., 0., 1., 0., 1., 0., 0., 0., 1.,\n",
      "        0., 1., 1., 0., 1., 0., 0., 0., 1., 1., 0., 1., 0., 0., 1., 0.,\n",
      "        0., 1., 0., 1., 1., 1., 0., 1., 0., 0., 0., 1., 0., 0., 0., 1.,\n",
      "        1., 0., 0., 0., 0., 1., 1., 1., 1., 1., 0., 1., 0., 1., 1., 1.,\n",
      "        1., 0., 0., 1., 0., 0., 0., 1., 1., 0., 1., 1., 1., 1., 1., 0.,\n",
      "        0., 1., 1., 0., 1., 0., 0., 1., 1., 1., 0., 1., 1., 1., 1., 1.,\n",
      "        1., 0., 1., 0., 1., 1., 0., 0., 1., 1., 0., 1., 1., 1., 0., 1.,\n",
      "        0., 0., 0., 1., 0., 0., 1., 1., 1., 0., 1., 0., 0., 1., 0., 0.,\n",
      "        0., 0., 1., 1., 0., 0., 0., 1., 1., 0., 1., 0., 0., 1., 1., 1.,\n",
      "        1., 0., 0., 1., 0., 1., 1., 0., 1., 0., 0., 1., 1., 0., 1., 0.,\n",
      "        0., 1., 0., 0., 1., 1., 0., 1., 0., 1., 1., 1., 0., 1., 0., 1.,\n",
      "        1., 1., 0., 1., 1., 1., 0., 1., 0., 1., 0., 1., 0., 1., 0., 1.,\n",
      "        0., 0., 1., 0., 1., 0., 0., 1., 0., 1., 0., 0., 0., 1., 0., 0.,\n",
      "        1., 0., 0., 1., 0., 1., 0., 0., 0., 0., 1., 1., 0., 1., 1., 1.,\n",
      "        0., 0., 1., 1., 1., 0., 0., 1., 0., 0., 1., 1., 0., 1., 0., 0.,\n",
      "        0., 1., 1., 0., 1., 0., 1., 0., 1., 0., 0., 0., 1., 1., 1., 0.,\n",
      "        1., 1., 1., 1., 0., 1., 1., 1., 0., 1., 0., 1., 1., 1., 0., 1.,\n",
      "        1., 1., 1., 0., 0., 0., 0., 1., 1., 1., 0., 0., 0., 1., 0., 0.,\n",
      "        0., 0., 1., 1., 0., 0., 0., 1., 1., 1., 1., 0., 0., 1., 0., 1.,\n",
      "        0., 1., 1., 0., 0., 0., 0., 0., 1., 1., 1., 0., 0., 1., 0., 1.,\n",
      "        0., 0., 0., 0., 1., 1., 0., 0., 1., 1., 1., 1., 0., 0., 0., 0.,\n",
      "        1., 1.]]), 'Y_prediction_train': array([[1., 1., 0., ..., 0., 1., 0.]]), 'w': array([[ 0.        ],\n",
      "       [-0.01284733],\n",
      "       [-0.00722683],\n",
      "       [-0.00774633],\n",
      "       [ 0.04693492],\n",
      "       [ 0.10612324],\n",
      "       [ 0.07725849],\n",
      "       [ 0.00247366],\n",
      "       [ 0.00522553],\n",
      "       [-0.04867652],\n",
      "       [ 0.10271206],\n",
      "       [ 0.04468751],\n",
      "       [-0.02579742],\n",
      "       [-0.04126881],\n",
      "       [ 0.01371975],\n",
      "       [ 0.00515099],\n",
      "       [ 0.00057878],\n",
      "       [ 0.02477977],\n",
      "       [ 0.11499703],\n",
      "       [-0.01529325],\n",
      "       [-0.17328584],\n",
      "       [-0.0398746 ],\n",
      "       [-0.0749206 ],\n",
      "       [-0.01451428],\n",
      "       [-0.00054178],\n",
      "       [-0.10871102],\n",
      "       [ 0.02706402],\n",
      "       [ 0.15284705],\n",
      "       [ 0.02330681],\n",
      "       [ 0.11005137],\n",
      "       [-0.11292083],\n",
      "       [-0.00199946],\n",
      "       [ 0.        ],\n",
      "       [-0.18932149],\n",
      "       [-0.00054718],\n",
      "       [ 0.14680555],\n",
      "       [-0.06441335],\n",
      "       [ 0.00255398],\n",
      "       [ 0.01957553],\n",
      "       [ 0.        ],\n",
      "       [-0.00114808],\n",
      "       [-0.04038589],\n",
      "       [ 0.03399087],\n",
      "       [-0.00613688],\n",
      "       [ 0.04425656],\n",
      "       [ 0.0539333 ],\n",
      "       [ 0.06246506],\n",
      "       [ 0.00600199],\n",
      "       [-0.00029823],\n",
      "       [-0.01623527],\n",
      "       [ 0.02413313],\n",
      "       [-0.05215625],\n",
      "       [-0.22451473],\n",
      "       [-0.04606359],\n",
      "       [ 0.05394682],\n",
      "       [-0.00450796],\n",
      "       [ 0.        ],\n",
      "       [-0.01427984],\n",
      "       [-0.00645703],\n",
      "       [-0.03674834],\n",
      "       [-0.1297503 ],\n",
      "       [-0.04418715],\n",
      "       [-0.0474881 ],\n",
      "       [-0.05619654]]), 'b': -0.004074815726002863, 'learning_rate': 0.001, 'num_iterations': 2000}\n",
      "{'costs': [0.6931471805599453, 0.42814008747313764, 0.37150308583269703, 0.34518806614853037, 0.3292147724786352, 0.31820378375914327, 0.310045851206561, 0.30371825165674765, 0.2986527861341096, 0.29450274453832437, 0.291041727501395, 0.28811419071695454, 0.28560899411140644, 0.2834442205812589, 0.28155795562095437, 0.2799024227424207, 0.2784401080545757, 0.27714111598026614, 0.27598131535868753, 0.27494100910994157, 0.2740039602108037, 0.2731566659239348, 0.2723878085918265, 0.27168783431154087, 0.27104862573741445, 0.27046324517485804, 0.26992573085042987, 0.2694309338852819, 0.26897438675854973, 0.26855219637095434, 0.26816095649849325, 0.267797675655577, 0.2674597172974363, 0.26714474997309506, 0.26685070555531937, 0.2665757440669031, 0.26631822392495724, 0.26607667665929297, 0.2658497853441217, 0.2656363661263482, 0.2654353523477903, 0.26524578084951594, 0.26506678011928736, 0.264897560001742, 0.26473740273843144, 0.2645856551434791, 0.2644417217522066, 0.26430505880601757, 0.2641751689582191, 0.26405159660316413], 'Y_prediction_test': array([[0., 0., 0., 0., 1., 1., 0., 1., 1., 0., 1., 0., 0., 1., 0., 0.,\n",
      "        0., 0., 1., 1., 1., 0., 1., 0., 1., 0., 0., 0., 1., 1., 1., 1.,\n",
      "        1., 0., 0., 1., 1., 1., 0., 1., 1., 1., 1., 1., 0., 0., 1., 0.,\n",
      "        1., 1., 1., 1., 1., 1., 0., 0., 1., 0., 1., 0., 1., 0., 1., 1.,\n",
      "        1., 1., 1., 1., 0., 1., 1., 0., 1., 1., 0., 0., 0., 1., 0., 0.,\n",
      "        1., 0., 0., 1., 1., 1., 0., 0., 1., 0., 1., 1., 0., 0., 0., 1.,\n",
      "        0., 0., 0., 0., 1., 0., 0., 1., 0., 1., 0., 0., 1., 0., 0., 1.,\n",
      "        0., 0., 0., 1., 0., 1., 1., 1., 0., 1., 0., 1., 0., 0., 0., 1.,\n",
      "        0., 1., 1., 0., 1., 0., 0., 0., 1., 1., 0., 1., 0., 0., 1., 0.,\n",
      "        0., 1., 0., 1., 0., 1., 0., 1., 0., 0., 0., 1., 0., 0., 0., 1.,\n",
      "        1., 0., 0., 0., 0., 0., 1., 1., 1., 1., 0., 1., 0., 1., 1., 1.,\n",
      "        1., 0., 0., 1., 0., 0., 0., 1., 1., 0., 1., 1., 1., 1., 1., 1.,\n",
      "        0., 1., 1., 0., 1., 0., 0., 1., 1., 1., 0., 1., 1., 1., 1., 1.,\n",
      "        1., 0., 1., 0., 1., 1., 0., 0., 1., 1., 0., 1., 1., 1., 0., 1.,\n",
      "        0., 0., 0., 1., 0., 0., 1., 1., 1., 0., 1., 0., 0., 1., 0., 0.,\n",
      "        0., 0., 1., 1., 0., 0., 0., 1., 1., 0., 1., 0., 0., 1., 1., 1.,\n",
      "        1., 0., 0., 1., 1., 1., 1., 0., 1., 0., 0., 1., 1., 0., 1., 0.,\n",
      "        0., 1., 0., 0., 1., 1., 0., 1., 0., 1., 1., 1., 0., 1., 0., 1.,\n",
      "        1., 1., 0., 1., 1., 1., 0., 1., 0., 1., 0., 1., 0., 1., 0., 1.,\n",
      "        0., 0., 1., 0., 1., 0., 0., 1., 0., 1., 0., 0., 0., 1., 0., 0.,\n",
      "        1., 0., 0., 1., 0., 1., 0., 0., 0., 0., 1., 1., 0., 1., 1., 1.,\n",
      "        0., 0., 1., 1., 1., 0., 0., 1., 0., 0., 1., 1., 0., 1., 0., 0.,\n",
      "        0., 1., 1., 0., 1., 0., 1., 0., 1., 0., 0., 1., 1., 1., 1., 0.,\n",
      "        1., 1., 1., 1., 0., 1., 1., 1., 0., 1., 0., 1., 1., 1., 0., 1.,\n",
      "        1., 1., 1., 0., 0., 0., 0., 1., 1., 1., 0., 0., 0., 1., 0., 0.,\n",
      "        0., 0., 1., 1., 0., 0., 0., 1., 1., 1., 1., 0., 0., 1., 0., 1.,\n",
      "        0., 1., 1., 0., 0., 0., 0., 0., 1., 1., 1., 1., 0., 1., 0., 1.,\n",
      "        0., 0., 0., 0., 1., 1., 0., 0., 1., 1., 1., 1., 0., 0., 0., 0.,\n",
      "        1., 1.]]), 'Y_prediction_train': array([[0., 1., 0., ..., 0., 1., 0.]]), 'w': array([[ 0.        ],\n",
      "       [-0.02086915],\n",
      "       [-0.00512704],\n",
      "       [-0.00603113],\n",
      "       [ 0.06845329],\n",
      "       [ 0.11936655],\n",
      "       [ 0.09167526],\n",
      "       [-0.00588007],\n",
      "       [ 0.01358002],\n",
      "       [-0.08083156],\n",
      "       [ 0.123798  ],\n",
      "       [ 0.06658866],\n",
      "       [-0.0301352 ],\n",
      "       [-0.06370197],\n",
      "       [ 0.01097456],\n",
      "       [ 0.01579496],\n",
      "       [ 0.00167228],\n",
      "       [ 0.06325952],\n",
      "       [ 0.12658413],\n",
      "       [-0.01124282],\n",
      "       [-0.20028403],\n",
      "       [-0.05637548],\n",
      "       [-0.09606544],\n",
      "       [-0.02621306],\n",
      "       [-0.00134605],\n",
      "       [-0.14357032],\n",
      "       [ 0.02336891],\n",
      "       [ 0.16606422],\n",
      "       [ 0.0274609 ],\n",
      "       [ 0.15218499],\n",
      "       [-0.15629444],\n",
      "       [-0.0046324 ],\n",
      "       [ 0.        ],\n",
      "       [-0.23861655],\n",
      "       [-0.011255  ],\n",
      "       [ 0.18108407],\n",
      "       [-0.09614784],\n",
      "       [-0.00956749],\n",
      "       [ 0.04651831],\n",
      "       [ 0.        ],\n",
      "       [-0.0020811 ],\n",
      "       [-0.02186415],\n",
      "       [ 0.0495217 ],\n",
      "       [-0.03173911],\n",
      "       [ 0.09574382],\n",
      "       [ 0.06809526],\n",
      "       [ 0.0761289 ],\n",
      "       [ 0.00991189],\n",
      "       [-0.00033905],\n",
      "       [-0.03177261],\n",
      "       [ 0.03466666],\n",
      "       [-0.06306529],\n",
      "       [-0.27318732],\n",
      "       [-0.04829918],\n",
      "       [ 0.06615561],\n",
      "       [-0.0042555 ],\n",
      "       [ 0.        ],\n",
      "       [-0.03097881],\n",
      "       [-0.00396002],\n",
      "       [-0.04903098],\n",
      "       [-0.15055656],\n",
      "       [-0.05600438],\n",
      "       [-0.06786395],\n",
      "       [-0.08795071]]), 'b': -0.0081911978013029, 'learning_rate': 0.001, 'num_iterations': 5000}\n",
      "{'costs': [0.6931471805599453, 0.42814008747313764, 0.37150308583269703, 0.34518806614853037, 0.3292147724786352, 0.31820378375914327, 0.310045851206561, 0.30371825165674765, 0.2986527861341096, 0.29450274453832437, 0.291041727501395, 0.28811419071695454, 0.28560899411140644, 0.2834442205812589, 0.28155795562095437, 0.2799024227424207, 0.2784401080545757, 0.27714111598026614, 0.27598131535868753, 0.27494100910994157, 0.2740039602108037, 0.2731566659239348, 0.2723878085918265, 0.27168783431154087, 0.27104862573741445, 0.27046324517485804, 0.26992573085042987, 0.2694309338852819, 0.26897438675854973, 0.26855219637095434, 0.26816095649849325, 0.267797675655577, 0.2674597172974363, 0.26714474997309506, 0.26685070555531937, 0.2665757440669031, 0.26631822392495724, 0.26607667665929297, 0.2658497853441217, 0.2656363661263482, 0.2654353523477903, 0.26524578084951594, 0.26506678011928736, 0.264897560001742, 0.26473740273843144, 0.2645856551434791, 0.2644417217522066, 0.26430505880601757, 0.2641751689582191, 0.26405159660316413, 0.26393392374582053, 0.2638217663411435, 0.2637147710429083, 0.26361261231028676, 0.26351498982772764, 0.2634216261998459, 0.2633322648882375, 0.2632466683615681, 0.2631646164340616, 0.26308590477074356, 0.26301034354056463, 0.2629377562009034, 0.26286797839900194, 0.2628008569776513, 0.26273624907397763, 0.2626740213015046, 0.2626140490068218, 0.26255621559319364, 0.26250041190431733, 0.26244653566220727, 0.26239449095385087, 0.26234418776187307, 0.26229554153496026, 0.26224847279425323, 0.26220290677231833, 0.26215877308166274, 0.2621160054100716, 0.26207454124032536, 0.26203432159210244, 0.2619952907840877], 'Y_prediction_test': array([[0., 0., 0., 0., 1., 1., 0., 1., 1., 0., 1., 0., 0., 1., 0., 0.,\n",
      "        0., 0., 1., 1., 1., 0., 1., 0., 1., 0., 0., 0., 1., 1., 1., 1.,\n",
      "        1., 0., 0., 1., 1., 1., 0., 1., 1., 1., 1., 1., 0., 0., 1., 0.,\n",
      "        1., 1., 1., 1., 1., 1., 0., 0., 1., 0., 1., 0., 1., 0., 1., 1.,\n",
      "        1., 1., 0., 1., 0., 1., 1., 0., 1., 1., 0., 0., 0., 1., 0., 0.,\n",
      "        1., 0., 0., 1., 1., 1., 0., 0., 1., 0., 1., 1., 0., 0., 0., 1.,\n",
      "        0., 0., 0., 0., 1., 0., 0., 1., 0., 1., 0., 0., 1., 0., 0., 1.,\n",
      "        0., 0., 0., 1., 0., 1., 1., 1., 0., 1., 0., 1., 0., 0., 0., 1.,\n",
      "        0., 1., 1., 0., 1., 0., 0., 0., 1., 1., 0., 1., 0., 0., 1., 0.,\n",
      "        0., 1., 0., 1., 0., 1., 0., 1., 0., 0., 0., 1., 0., 0., 0., 1.,\n",
      "        1., 0., 0., 0., 0., 0., 1., 1., 1., 1., 0., 1., 0., 1., 1., 1.,\n",
      "        1., 0., 0., 1., 0., 0., 0., 1., 1., 0., 1., 1., 1., 1., 1., 1.,\n",
      "        0., 1., 1., 0., 1., 0., 0., 1., 1., 1., 0., 1., 1., 1., 1., 1.,\n",
      "        1., 0., 1., 0., 1., 1., 0., 0., 1., 1., 0., 1., 1., 1., 0., 1.,\n",
      "        0., 0., 0., 1., 0., 0., 1., 1., 1., 0., 1., 0., 0., 1., 0., 0.,\n",
      "        0., 0., 1., 1., 0., 0., 0., 1., 1., 0., 1., 0., 0., 1., 1., 1.,\n",
      "        1., 0., 0., 1., 1., 1., 1., 0., 1., 0., 0., 1., 1., 0., 1., 0.,\n",
      "        0., 1., 0., 0., 1., 1., 0., 1., 0., 1., 1., 1., 0., 1., 0., 1.,\n",
      "        1., 1., 0., 1., 1., 1., 0., 1., 0., 1., 0., 1., 0., 1., 0., 1.,\n",
      "        0., 0., 1., 0., 1., 1., 0., 1., 0., 1., 0., 0., 0., 1., 0., 0.,\n",
      "        1., 0., 0., 1., 0., 1., 0., 0., 0., 0., 1., 1., 0., 1., 1., 1.,\n",
      "        0., 0., 1., 1., 1., 0., 0., 1., 0., 0., 1., 1., 0., 1., 0., 0.,\n",
      "        0., 1., 1., 0., 1., 0., 1., 0., 1., 0., 0., 1., 1., 1., 1., 0.,\n",
      "        1., 1., 1., 1., 0., 1., 1., 1., 0., 1., 0., 1., 1., 1., 0., 1.,\n",
      "        1., 1., 1., 0., 0., 0., 0., 1., 1., 1., 0., 0., 0., 1., 0., 0.,\n",
      "        0., 0., 1., 1., 0., 0., 0., 1., 1., 1., 1., 0., 0., 1., 0., 1.,\n",
      "        0., 1., 1., 0., 0., 0., 0., 0., 1., 1., 1., 1., 0., 1., 0., 1.,\n",
      "        0., 0., 0., 0., 1., 1., 0., 0., 1., 1., 1., 1., 0., 0., 0., 0.,\n",
      "        1., 1.]]), 'Y_prediction_train': array([[0., 1., 1., ..., 0., 1., 0.]]), 'w': array([[ 0.        ],\n",
      "       [-0.02508037],\n",
      "       [-0.00271199],\n",
      "       [-0.00458814],\n",
      "       [ 0.07743056],\n",
      "       [ 0.12213526],\n",
      "       [ 0.09644064],\n",
      "       [-0.01505197],\n",
      "       [ 0.02184022],\n",
      "       [-0.10251338],\n",
      "       [ 0.1303679 ],\n",
      "       [ 0.07321719],\n",
      "       [-0.03606152],\n",
      "       [-0.06960183],\n",
      "       [ 0.01185631],\n",
      "       [ 0.0273588 ],\n",
      "       [ 0.00272847],\n",
      "       [ 0.08668955],\n",
      "       [ 0.12695453],\n",
      "       [-0.00733731],\n",
      "       [-0.20627209],\n",
      "       [-0.06473   ],\n",
      "       [-0.1002892 ],\n",
      "       [-0.03573903],\n",
      "       [-0.00223755],\n",
      "       [-0.16076604],\n",
      "       [ 0.02585073],\n",
      "       [ 0.16848647],\n",
      "       [ 0.02761682],\n",
      "       [ 0.16802125],\n",
      "       [-0.17388746],\n",
      "       [-0.00713091],\n",
      "       [ 0.        ],\n",
      "       [-0.25363564],\n",
      "       [-0.01830187],\n",
      "       [ 0.19650273],\n",
      "       [-0.10756541],\n",
      "       [-0.01436122],\n",
      "       [ 0.05807469],\n",
      "       [ 0.        ],\n",
      "       [-0.00305477],\n",
      "       [-0.00886177],\n",
      "       [ 0.05544206],\n",
      "       [-0.0462203 ],\n",
      "       [ 0.11420768],\n",
      "       [ 0.07207148],\n",
      "       [ 0.07998345],\n",
      "       [ 0.01330827],\n",
      "       [-0.00036519],\n",
      "       [-0.04466109],\n",
      "       [ 0.03713367],\n",
      "       [-0.06288926],\n",
      "       [-0.29037216],\n",
      "       [-0.04958829],\n",
      "       [ 0.0707998 ],\n",
      "       [-0.00222347],\n",
      "       [ 0.        ],\n",
      "       [-0.04490858],\n",
      "       [ 0.00034463],\n",
      "       [-0.05378986],\n",
      "       [-0.15547264],\n",
      "       [-0.05914817],\n",
      "       [-0.07754802],\n",
      "       [-0.11139022]]), 'b': -0.012173122339780454, 'learning_rate': 0.001, 'num_iterations': 8000}\n"
     ]
    },
    {
     "data": {
      "image/png": "[encoded data removed]",
      "text/plain": [
       "<Figure size 432x288 with 1 Axes>"
      ]
     },
     "metadata": {
      "needs_background": "light"
     },
     "output_type": "display_data"
    }
   ],
   "source": [
    "iteration_nums = [2000, 5000, 8000]\n",
    "models = {}\n",
    "for i in iteration_nums:\n",
    "    print (\"iteration_num is: \" + str(i))\n",
    "    models[str(i)] = model(X_train, y_train, X_test, y_test, num_iterations = i, learning_rate = 0.001, print_cost = False)\n",
    "    plt.plot(np.squeeze(models[str(i)][\"costs\"]), label= str(models[str(i)][\"num_iterations\"]))\n",
    "for i in iteration_nums:\n",
    "    print(models[str(i)])\n",
    "plt.ylabel('cost')\n",
    "plt.xlabel('iterations')\n",
    "\n",
    "legend = plt.legend(loc='upper center', shadow=True)\n",
    "frame = legend.get_frame()\n",
    "frame.set_facecolor('1')\n",
    "plt.show()"
   ]
  },
  {
   "cell_type": "markdown",
   "metadata": {},
   "source": [
    "iteration_num的变化没有影响训练结果"
   ]
  },
  {
   "cell_type": "markdown",
   "metadata": {},
   "source": [
    "# Challenge ! ! !\n",
    "\n",
    "The original data have images labeled 0,1,2,3,4,5,6,7,8,9. In our logistic model, we only detect if the digit in the image is larger or smaller than 5. Now, Let's go for a more challenging problem. Try to use softmax function to build a model to recognize which digit (0,1,2,3,4,5,6,7,8,9) is in the image."
   ]
  },
  {
   "cell_type": "markdown",
   "metadata": {},
   "source": [
    "# Congratulations ! You have completed assigment 4. "
   ]
  },
  {
   "cell_type": "code",
   "execution_count": null,
   "metadata": {},
   "outputs": [],
   "source": []
  }
 ],
 "metadata": {
  "kernelspec": {
   "display_name": "Python 3",
   "language": "python",
   "name": "python3"
  },
  "language_info": {
   "codemirror_mode": {
    "name": "ipython",
    "version": 3
   },
   "file_extension": ".py",
   "mimetype": "text/x-python",
   "name": "python",
   "nbconvert_exporter": "python",
   "pygments_lexer": "ipython3",
   "version": "3.7.4"
  }
 },
 "nbformat": 4,
 "nbformat_minor": 2
}
